{
 "cells": [
  {
   "cell_type": "code",
   "execution_count": 27,
   "metadata": {},
   "outputs": [
    {
     "name": "stdout",
     "output_type": "stream",
     "text": [
      "Welcome to Rock, Paper, Scissors!\n",
      "Type 1 for Rock, 2 for Paper and 3 for scissors1\n",
      "====================\n",
      "Computer choice is: Paper\n",
      "--------------------\n",
      "Users choice is: Rock\n",
      "====================\n",
      "Paper beats Rock. You Lose!\n",
      "Would you like to play again? Type 'yes' or 'no'\n",
      "yes\n",
      "Type 1 for Rock, 2 for Paper and 3 for scissors2\n",
      "====================\n",
      "Computer choice is: Paper\n",
      "--------------------\n",
      "Users choice is: Paper\n",
      "====================\n",
      "It's a draw, would you like to play again? Type 'yes' to play again or 'no' to quit no\n",
      "Game Over\n"
     ]
    }
   ],
   "source": [
    "import random as rand\n",
    "\n",
    "computer = {1: 'Rock', 2:'Paper', 3:'Scissors'}\n",
    "users = {1: 'Rock', 2:'Paper', 3:'Scissors'}\n",
    "\n",
    "print(\"Welcome to Rock, Paper, Scissors!\")\n",
    "\n",
    "user = 0\n",
    "\n",
    "def compare(comp,user):\n",
    "    if comp == \"Rock\":\n",
    "        if user == 'Paper':\n",
    "            print(f\"Paper beats Rock. You Win!\")\n",
    "        elif user == \"Scissors\":\n",
    "            print(\"Rock beats Scissors. You Lose!\")\n",
    "    if comp == 'Paper':\n",
    "        if user == 'Rock':\n",
    "            print(\"Paper beats Rock. You Lose!\")\n",
    "        elif user == 'Scissors':\n",
    "            print(\"Scissors beats Paper. You Win!\")\n",
    "    if comp == 'Scissors':\n",
    "        if user == 'Rock':\n",
    "            print(\"Rock beats Scissors. You Win!\")\n",
    "        if user == 'Paper':\n",
    "            print(\"Scissors beats Paper. You Lose!\")\n",
    "\n",
    "while user != 'no':\n",
    "    user = int(input(\"Type 1 for Rock, 2 for Paper and 3 for scissors\"))\n",
    "    print(\"=\"*20)\n",
    "    rand_num = rand.randint(1,3)\n",
    "    comp_choice = computer[rand_num]\n",
    "    user_choice = users[user]\n",
    "    print(f\"Computer choice is: {comp_choice}\")\n",
    "    print(\"-\"*20)\n",
    "    print(f\"Users choice is: {user_choice}\")\n",
    "    print(\"=\"*20)\n",
    "    if comp_choice == user_choice:\n",
    "        user = input(\"It's a draw, would you like to play again? Type 'yes' to play again or 'no' to quit \")\n",
    "        if user == 'yes':\n",
    "            continue\n",
    "        else:\n",
    "            break\n",
    "        continue\n",
    "    compare(comp_choice, user_choice)\n",
    "    user = input(\"Would you like to play again? Type 'yes' or 'no'\\n\")\n",
    "    \n",
    "print(\"Game Over\")"
   ]
  },
  {
   "cell_type": "code",
   "execution_count": 19,
   "metadata": {},
   "outputs": [
    {
     "name": "stdout",
     "output_type": "stream",
     "text": [
      "3\n"
     ]
    }
   ],
   "source": [
    "x = rand.randint(1,3)\n",
    "print(x)"
   ]
  },
  {
   "cell_type": "code",
   "execution_count": null,
   "metadata": {},
   "outputs": [],
   "source": []
  },
  {
   "cell_type": "code",
   "execution_count": null,
   "metadata": {},
   "outputs": [],
   "source": []
  }
 ],
 "metadata": {
  "kernelspec": {
   "display_name": "Python 3",
   "language": "python",
   "name": "python3"
  },
  "language_info": {
   "codemirror_mode": {
    "name": "ipython",
    "version": 3
   },
   "file_extension": ".py",
   "mimetype": "text/x-python",
   "name": "python",
   "nbconvert_exporter": "python",
   "pygments_lexer": "ipython3",
   "version": "3.8.3"
  }
 },
 "nbformat": 4,
 "nbformat_minor": 4
}
