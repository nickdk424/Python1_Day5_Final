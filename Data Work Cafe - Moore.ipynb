{
 "cells": [
  {
   "cell_type": "code",
   "execution_count": 26,
   "metadata": {},
   "outputs": [
    {
     "name": "stdout",
     "output_type": "stream",
     "text": [
      "Welcome to Mc Cafe!\n",
      "Would you like to see the menu? yes\n",
      "Coffee:\n",
      "\tEspresso\t$1.50\n",
      "\tAmericano\t$2.00\n",
      "\tCaffe latte\t$2.25\n",
      "\tMocha\t\t$2.25\n",
      "\tCappucino\t$2.50\n",
      "\tMacchiato\t$2.50\n",
      "Tea:\n",
      "\tWhite tea\t$1.50\n",
      "\tGreen tea\t$2.00\n",
      "\tOolong tea\t$2.25\n",
      "\tBlack tea\t$2.25\n",
      "\tEarl Grey\t$2.50\n",
      "\tMatcha\t\t$2.50\n",
      "Pastries:\n",
      "\tCroissant\t$5.50\n",
      "\tCinnamon roll\t$4.50\n",
      "\tBanana bread\t$4.25\n",
      "\tPumpkin bread\t$3.75\n",
      "\tSticky bun\t$4.25\n",
      "\tApple turnover\t$3.75\n",
      "Would you like to order? yes\n",
      "Please key in an item: Croissant\n",
      "How Many? 1\n",
      "Would you like to order another item?yes\n",
      "Please key in an item: Cappucino\n",
      "How Many? 2\n",
      "Would you like to order another item?no\n"
     ]
    },
    {
     "ename": "KeyError",
     "evalue": "'Croissant'",
     "output_type": "error",
     "traceback": [
      "\u001b[1;31m---------------------------------------------------------------------------\u001b[0m",
      "\u001b[1;31mKeyError\u001b[0m                                  Traceback (most recent call last)",
      "\u001b[1;32m<ipython-input-26-0afcccac2e69>\u001b[0m in \u001b[0;36m<module>\u001b[1;34m\u001b[0m\n\u001b[0;32m     51\u001b[0m \u001b[1;33m\u001b[0m\u001b[0m\n\u001b[0;32m     52\u001b[0m \u001b[1;32mfor\u001b[0m \u001b[0mk\u001b[0m\u001b[1;33m,\u001b[0m\u001b[0mv\u001b[0m \u001b[1;32min\u001b[0m \u001b[0mitems\u001b[0m\u001b[1;33m.\u001b[0m\u001b[0mitems\u001b[0m\u001b[1;33m(\u001b[0m\u001b[1;33m)\u001b[0m\u001b[1;33m:\u001b[0m\u001b[1;33m\u001b[0m\u001b[1;33m\u001b[0m\u001b[0m\n\u001b[1;32m---> 53\u001b[1;33m     \u001b[1;32mif\u001b[0m \u001b[0mmenus\u001b[0m\u001b[1;33m.\u001b[0m\u001b[0mget\u001b[0m\u001b[1;33m(\u001b[0m\u001b[0mmenus\u001b[0m\u001b[1;33m[\u001b[0m\u001b[1;34m\"Coffee\"\u001b[0m\u001b[1;33m]\u001b[0m\u001b[1;33m[\u001b[0m\u001b[0mk\u001b[0m\u001b[1;33m]\u001b[0m\u001b[1;33m)\u001b[0m \u001b[1;33m==\u001b[0m \u001b[1;32mTrue\u001b[0m\u001b[1;33m:\u001b[0m\u001b[1;33m\u001b[0m\u001b[1;33m\u001b[0m\u001b[0m\n\u001b[0m\u001b[0;32m     54\u001b[0m         \u001b[0mprice\u001b[0m \u001b[1;33m=\u001b[0m \u001b[0mmenus\u001b[0m\u001b[1;33m[\u001b[0m\u001b[1;34m'Coffee'\u001b[0m\u001b[1;33m]\u001b[0m\u001b[1;33m[\u001b[0m\u001b[0mk\u001b[0m\u001b[1;33m]\u001b[0m\u001b[1;33m\u001b[0m\u001b[1;33m\u001b[0m\u001b[0m\n\u001b[0;32m     55\u001b[0m         \u001b[0mprint\u001b[0m\u001b[1;33m(\u001b[0m\u001b[1;34mf'{k}\\tQuantity:{v}\\nPrice: {price}'\u001b[0m\u001b[1;33m)\u001b[0m\u001b[1;33m\u001b[0m\u001b[1;33m\u001b[0m\u001b[0m\n",
      "\u001b[1;31mKeyError\u001b[0m: 'Croissant'"
     ]
    }
   ],
   "source": [
    "menus = {}\n",
    "menus['Coffee'] = {'Espresso':1.50,\n",
    "'Americano': 2.00,\n",
    "'Caffe latte':2.25,\n",
    "'Mocha\\t': 2.25,\n",
    "'Cappucino': 2.50,\n",
    "'Macchiato': 2.50}\n",
    "menus['Tea'] = {'White tea': 1.50,\n",
    "'Green tea': 2.00,\n",
    "'Oolong tea': 2.25,\n",
    "'Black tea': 2.25,\n",
    "'Earl Grey': 2.50,\n",
    "'Matcha\\t': 2.50}\n",
    "menus['Pastries'] = {'Croissant': 5.50,\n",
    "'Cinnamon roll': 4.50,\n",
    "'Banana bread': 4.25,\n",
    "'Pumpkin bread': 3.75,\n",
    "'Sticky bun': 4.25,\n",
    "'Apple turnover': 3.75}\n",
    "\n",
    "print(\"Welcome to Mc Cafe!\")\n",
    "menu = input(\"Would you like to see the menu? \")\n",
    "menu = menu.lower()\n",
    "\n",
    "if menu == 'yes':\n",
    "    print(\"Coffee:\")\n",
    "    for k, v in menus[\"Coffee\"].items():\n",
    "        print(f'\\t{k}\\t${v:.2f}')\n",
    "    print(\"Tea:\")\n",
    "    for k, v in menus[\"Tea\"].items():\n",
    "        print(f'\\t{k}\\t${v:.2f}')\n",
    "    print('Pastries:')\n",
    "    for k, v in menus['Pastries'].items():\n",
    "        print(f'\\t{k}\\t${v:.2f}')\n",
    "else:\n",
    "    print(\"Okay, Have a nice day!\")\n",
    "\n",
    "order = input(\"Would you like to order? \")\n",
    "order = order.lower()\n",
    "again = 'yes'\n",
    "items = {}\n",
    "while again == 'yes':\n",
    "    if order == 'yes':\n",
    "        item = input(\"Please key in an item: \")\n",
    "        quantity = input(\"How Many? \")\n",
    "        items[item] = quantity\n",
    "        again = input(\"Would you like to order another item?\")\n",
    "        continue\n",
    "    else:\n",
    "        break\n",
    "\n"
   ]
  },
  {
   "cell_type": "markdown",
   "metadata": {},
   "source": []
  }
 ],
 "metadata": {
  "kernelspec": {
   "display_name": "Python 3",
   "language": "python",
   "name": "python3"
  },
  "language_info": {
   "codemirror_mode": {
    "name": "ipython",
    "version": 3
   },
   "file_extension": ".py",
   "mimetype": "text/x-python",
   "name": "python",
   "nbconvert_exporter": "python",
   "pygments_lexer": "ipython3",
   "version": "3.8.3"
  }
 },
 "nbformat": 4,
 "nbformat_minor": 4
}
